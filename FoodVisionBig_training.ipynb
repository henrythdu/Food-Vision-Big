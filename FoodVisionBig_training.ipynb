{
 "cells": [
  {
   "cell_type": "markdown",
   "metadata": {},
   "source": [
    "# Setting up the model"
   ]
  },
  {
   "cell_type": "code",
   "execution_count": 2,
   "metadata": {},
   "outputs": [
    {
     "data": {
      "text/plain": [
       "'cpu'"
      ]
     },
     "execution_count": 2,
     "metadata": {},
     "output_type": "execute_result"
    }
   ],
   "source": [
    "import torch\n",
    "device = \"cuda\" if torch.cuda.is_available() else \"cpu\"\n",
    "device\n"
   ]
  },
  {
   "cell_type": "code",
   "execution_count": 3,
   "metadata": {},
   "outputs": [],
   "source": [
    "from utils.model import create_effnetb2_model\n",
    "effnetb2, effnetb2_transforms  = create_effnetb2_model()"
   ]
  },
  {
   "cell_type": "code",
   "execution_count": 4,
   "metadata": {},
   "outputs": [],
   "source": [
    "from torchvision import transforms\n",
    "image_transform = transforms.Compose([transforms.TrivialAugmentWide(), effnetb2_transforms])"
   ]
  },
  {
   "cell_type": "code",
   "execution_count": 5,
   "metadata": {},
   "outputs": [
    {
     "data": {
      "text/plain": [
       "============================================================================================================================================\n",
       "Layer (type (var_name))                                      Input Shape          Output Shape         Param #              Trainable\n",
       "============================================================================================================================================\n",
       "EfficientNet (EfficientNet)                                  [1, 3, 228, 228]     [1, 101]             --                   Partial\n",
       "├─Sequential (features)                                      [1, 3, 228, 228]     [1, 1408, 8, 8]      --                   False\n",
       "│    └─Conv2dNormActivation (0)                              [1, 3, 228, 228]     [1, 32, 114, 114]    --                   False\n",
       "│    │    └─Conv2d (0)                                       [1, 3, 228, 228]     [1, 32, 114, 114]    (864)                False\n",
       "│    │    └─BatchNorm2d (1)                                  [1, 32, 114, 114]    [1, 32, 114, 114]    (64)                 False\n",
       "│    │    └─SiLU (2)                                         [1, 32, 114, 114]    [1, 32, 114, 114]    --                   --\n",
       "│    └─Sequential (1)                                        [1, 32, 114, 114]    [1, 16, 114, 114]    --                   False\n",
       "│    │    └─MBConv (0)                                       [1, 32, 114, 114]    [1, 16, 114, 114]    (1,448)              False\n",
       "│    │    └─MBConv (1)                                       [1, 16, 114, 114]    [1, 16, 114, 114]    (612)                False\n",
       "│    └─Sequential (2)                                        [1, 16, 114, 114]    [1, 24, 57, 57]      --                   False\n",
       "│    │    └─MBConv (0)                                       [1, 16, 114, 114]    [1, 24, 57, 57]      (6,004)              False\n",
       "│    │    └─MBConv (1)                                       [1, 24, 57, 57]      [1, 24, 57, 57]      (10,710)             False\n",
       "│    │    └─MBConv (2)                                       [1, 24, 57, 57]      [1, 24, 57, 57]      (10,710)             False\n",
       "│    └─Sequential (3)                                        [1, 24, 57, 57]      [1, 48, 29, 29]      --                   False\n",
       "│    │    └─MBConv (0)                                       [1, 24, 57, 57]      [1, 48, 29, 29]      (16,518)             False\n",
       "│    │    └─MBConv (1)                                       [1, 48, 29, 29]      [1, 48, 29, 29]      (43,308)             False\n",
       "│    │    └─MBConv (2)                                       [1, 48, 29, 29]      [1, 48, 29, 29]      (43,308)             False\n",
       "│    └─Sequential (4)                                        [1, 48, 29, 29]      [1, 88, 15, 15]      --                   False\n",
       "│    │    └─MBConv (0)                                       [1, 48, 29, 29]      [1, 88, 15, 15]      (50,300)             False\n",
       "│    │    └─MBConv (1)                                       [1, 88, 15, 15]      [1, 88, 15, 15]      (123,750)            False\n",
       "│    │    └─MBConv (2)                                       [1, 88, 15, 15]      [1, 88, 15, 15]      (123,750)            False\n",
       "│    │    └─MBConv (3)                                       [1, 88, 15, 15]      [1, 88, 15, 15]      (123,750)            False\n",
       "│    └─Sequential (5)                                        [1, 88, 15, 15]      [1, 120, 15, 15]     --                   False\n",
       "│    │    └─MBConv (0)                                       [1, 88, 15, 15]      [1, 120, 15, 15]     (149,158)            False\n",
       "│    │    └─MBConv (1)                                       [1, 120, 15, 15]     [1, 120, 15, 15]     (237,870)            False\n",
       "│    │    └─MBConv (2)                                       [1, 120, 15, 15]     [1, 120, 15, 15]     (237,870)            False\n",
       "│    │    └─MBConv (3)                                       [1, 120, 15, 15]     [1, 120, 15, 15]     (237,870)            False\n",
       "│    └─Sequential (6)                                        [1, 120, 15, 15]     [1, 208, 8, 8]       --                   False\n",
       "│    │    └─MBConv (0)                                       [1, 120, 15, 15]     [1, 208, 8, 8]       (301,406)            False\n",
       "│    │    └─MBConv (1)                                       [1, 208, 8, 8]       [1, 208, 8, 8]       (686,868)            False\n",
       "│    │    └─MBConv (2)                                       [1, 208, 8, 8]       [1, 208, 8, 8]       (686,868)            False\n",
       "│    │    └─MBConv (3)                                       [1, 208, 8, 8]       [1, 208, 8, 8]       (686,868)            False\n",
       "│    │    └─MBConv (4)                                       [1, 208, 8, 8]       [1, 208, 8, 8]       (686,868)            False\n",
       "│    └─Sequential (7)                                        [1, 208, 8, 8]       [1, 352, 8, 8]       --                   False\n",
       "│    │    └─MBConv (0)                                       [1, 208, 8, 8]       [1, 352, 8, 8]       (846,900)            False\n",
       "│    │    └─MBConv (1)                                       [1, 352, 8, 8]       [1, 352, 8, 8]       (1,888,920)          False\n",
       "│    └─Conv2dNormActivation (8)                              [1, 352, 8, 8]       [1, 1408, 8, 8]      --                   False\n",
       "│    │    └─Conv2d (0)                                       [1, 352, 8, 8]       [1, 1408, 8, 8]      (495,616)            False\n",
       "│    │    └─BatchNorm2d (1)                                  [1, 1408, 8, 8]      [1, 1408, 8, 8]      (2,816)              False\n",
       "│    │    └─SiLU (2)                                         [1, 1408, 8, 8]      [1, 1408, 8, 8]      --                   --\n",
       "├─AdaptiveAvgPool2d (avgpool)                                [1, 1408, 8, 8]      [1, 1408, 1, 1]      --                   --\n",
       "├─Sequential (classifier)                                    [1, 1408]            [1, 101]             --                   True\n",
       "│    └─Dropout (0)                                           [1, 1408]            [1, 1408]            --                   --\n",
       "│    └─Linear (1)                                            [1, 1408]            [1, 101]             142,309              True\n",
       "============================================================================================================================================\n",
       "Total params: 7,843,303\n",
       "Trainable params: 142,309\n",
       "Non-trainable params: 7,700,994\n",
       "Total mult-adds (Units.MEGABYTES): 775.56\n",
       "============================================================================================================================================\n",
       "Input size (MB): 0.62\n",
       "Forward/backward pass size (MB): 171.24\n",
       "Params size (MB): 31.37\n",
       "Estimated Total Size (MB): 203.24\n",
       "============================================================================================================================================"
      ]
     },
     "execution_count": 5,
     "metadata": {},
     "output_type": "execute_result"
    }
   ],
   "source": [
    "from torchinfo import summary\n",
    "summary(effnetb2,\n",
    "        input_size=(1, 3, 228, 228),\n",
    "        col_names=[\"input_size\", \"output_size\", \"num_params\", \"trainable\"],\n",
    "        col_width=20,\n",
    "        row_settings=[\"var_names\"])"
   ]
  },
  {
   "cell_type": "markdown",
   "metadata": {},
   "source": [
    "# Getting Data"
   ]
  },
  {
   "cell_type": "code",
   "execution_count": 6,
   "metadata": {},
   "outputs": [
    {
     "name": "stdout",
     "output_type": "stream",
     "text": [
      "Using downloaded and verified file: data\\food-101.tar.gz\n",
      "Extracting data\\food-101.tar.gz to data\n"
     ]
    }
   ],
   "source": [
    "from torchvision import datasets\n",
    "from pathlib import Path\n",
    "data_dir = Path('data')\n",
    "train_data = datasets.Food101(root = data_dir,\n",
    "                              split = \"train\",\n",
    "                              transform=image_transform,\n",
    "                              download = True)\n",
    "test_data = datasets.Food101(root=data_dir,\n",
    "                             split = \"test\",\n",
    "                             transform = effnetb2_transforms,\n",
    "                             download = True)"
   ]
  },
  {
   "cell_type": "code",
   "execution_count": 7,
   "metadata": {},
   "outputs": [],
   "source": [
    "from torch.utils.data import random_split\n",
    "import torchvision\n",
    "def split_datasets(dataset:torchvision.datasets,\n",
    "                  split_size = 0.2,\n",
    "                  seed = 42):\n",
    "    #Create split length\n",
    "    length_1 = int(len(dataset)*split_size)\n",
    "    length_2 = len(dataset) - length_1\n",
    "    random_split_1, random_split_2 = torch.utils.data.random_split(dataset,\n",
    "                                                                   [length_1,length_2],\n",
    "                                                                  generator = torch.manual_seed(seed))\n",
    "    return random_split_1, random_split_2"
   ]
  },
  {
   "cell_type": "code",
   "execution_count": 8,
   "metadata": {},
   "outputs": [],
   "source": [
    "train_data_food101_40_percent, _ = split_datasets(dataset = train_data,\n",
    "                                                 split_size = 0.4)\n",
    "test_data_food101_40_percent, _ = split_datasets(dataset = test_data,\n",
    "                                                 split_size = 0.4)"
   ]
  },
  {
   "cell_type": "code",
   "execution_count": 9,
   "metadata": {},
   "outputs": [],
   "source": [
    "from torch.utils.data import DataLoader\n",
    "train_dataloader = DataLoader(\n",
    "                              dataset = train_data_food101_40_percent,                          \n",
    "                              batch_size= 32,\n",
    "                              shuffle = True,\n",
    "                              )\n",
    "test_dataloader =  DataLoader(\n",
    "                              dataset=test_data_food101_40_percent,\n",
    "                              batch_size= 32,\n",
    "                              shuffle = False,\n",
    "                              )"
   ]
  },
  {
   "cell_type": "markdown",
   "metadata": {},
   "source": [
    "# Training the model"
   ]
  },
  {
   "cell_type": "code",
   "execution_count": 10,
   "metadata": {},
   "outputs": [],
   "source": [
    "import torch\n",
    "from utils import engine\n",
    "\n",
    "loss_fn = torch.nn.CrossEntropyLoss(label_smoothing = 0.1)\n",
    "optimizer = torch.optim.Adam(params = effnetb2.parameters(), lr=5e-4, weight_decay=1e-5)\n",
    "scheduler = torch.optim.lr_scheduler.ReduceLROnPlateau(optimizer,\"min\",patience=5)\n",
    "early_stopping = engine.EarlyStopping(tolerance=5, min_delta=10)"
   ]
  },
  {
   "cell_type": "code",
   "execution_count": 14,
   "metadata": {},
   "outputs": [
    {
     "data": {
      "application/vnd.jupyter.widget-view+json": {
       "model_id": "5b744b8293f94c29848ea630077e877f",
       "version_major": 2,
       "version_minor": 0
      },
      "text/plain": [
       "  0%|          | 0/1 [00:00<?, ?it/s]"
      ]
     },
     "metadata": {},
     "output_type": "display_data"
    }
   ],
   "source": [
    "from utils import engine\n",
    "EPOCHS = 1\n",
    "\n",
    "results = engine.train(model=effnetb2,\n",
    "                      train_dataloader=train_dataloader,\n",
    "                      test_dataloader=test_dataloader,\n",
    "                      epochs=EPOCHS,\n",
    "                      optimizer=optimizer,\n",
    "                      loss_fn=loss_fn,\n",
    "                      scheduler = scheduler,\n",
    "                      early_stopping = early_stopping,\n",
    "                      device=device)"
   ]
  },
  {
   "cell_type": "code",
   "execution_count": null,
   "metadata": {},
   "outputs": [],
   "source": [
    "from utils.util import plot_loss_curves\n",
    "\n",
    "plot_loss_curves(results)"
   ]
  },
  {
   "cell_type": "markdown",
   "metadata": {},
   "source": [
    "# Saving Model"
   ]
  },
  {
   "cell_type": "code",
   "execution_count": null,
   "metadata": {},
   "outputs": [],
   "source": [
    "from utils.util import save_model\n",
    "save_model(model = effnetb2,\n",
    "                   target_dir = \"models\",\n",
    "                   model_name = f\"mobileNetV3_quickdraw_animals_epoch_{EPOCHS}.pth\")"
   ]
  }
 ],
 "metadata": {
  "kernelspec": {
   "display_name": "base",
   "language": "python",
   "name": "python3"
  },
  "language_info": {
   "codemirror_mode": {
    "name": "ipython",
    "version": 3
   },
   "file_extension": ".py",
   "mimetype": "text/x-python",
   "name": "python",
   "nbconvert_exporter": "python",
   "pygments_lexer": "ipython3",
   "version": "3.11.5"
  }
 },
 "nbformat": 4,
 "nbformat_minor": 2
}
